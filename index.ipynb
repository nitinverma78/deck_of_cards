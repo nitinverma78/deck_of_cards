{
 "cells": [
  {
   "cell_type": "markdown",
   "metadata": {},
   "source": [
    "# Deck of Cards\n",
    "\n",
    "> A minimal example of using nbdev to create a python library."
   ]
  },
  {
   "cell_type": "markdown",
   "metadata": {},
   "source": [
    "https://nitinverma78.github.io/deck_of_cards/"
   ]
  },
  {
   "cell_type": "markdown",
   "metadata": {},
   "source": [
    "This repo uses code from Allen Downey's ThinkPython2. This file was automatically generated from a Jupyter Notebook using nbdev. To change it you must edit `index.ipynb`"
   ]
  },
  {
   "cell_type": "markdown",
   "metadata": {},
   "source": [
    "## Install"
   ]
  },
  {
   "cell_type": "markdown",
   "metadata": {},
   "source": [
    "`pip install -e`\n",
    "> There is already a project called deck_of_cards on pypi. This project has no relation to that. This project is an example of how to create python packages with nbdev."
   ]
  },
  {
   "cell_type": "markdown",
   "metadata": {},
   "source": [
    "## How to use"
   ]
  },
  {
   "cell_type": "markdown",
   "metadata": {},
   "source": [
    "Playing cards in python!"
   ]
  },
  {
   "cell_type": "code",
   "execution_count": null,
   "metadata": {},
   "outputs": [
    {
     "name": "stdout",
     "output_type": "stream",
     "text": [
      "Number of playing cards in the deck: 52\n"
     ]
    }
   ],
   "source": [
    "from deck_of_cards.deck import Deck\n",
    "d = Deck()\n",
    "print(f'Number of playing cards in the deck: {len(d.cards)}')"
   ]
  },
  {
   "cell_type": "code",
   "execution_count": null,
   "metadata": {},
   "outputs": [
    {
     "name": "stdout",
     "output_type": "stream",
     "text": [
      "King of Spades\n"
     ]
    }
   ],
   "source": [
    "card = d.pop_card()\n",
    "print(card)"
   ]
  }
 ],
 "metadata": {
  "kernelspec": {
   "display_name": "Python 3",
   "language": "python",
   "name": "python3"
  }
 },
 "nbformat": 4,
 "nbformat_minor": 2
}
